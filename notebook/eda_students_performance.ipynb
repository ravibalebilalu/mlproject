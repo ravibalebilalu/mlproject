{
 "cells": [
  {
   "cell_type": "markdown",
   "metadata": {},
   "source": []
  },
  {
   "cell_type": "code",
   "execution_count": null,
   "metadata": {},
   "outputs": [],
   "source": [
    " import numpy as np\n",
    " import matplotlib.pyplot as plt\n",
    " import seaborn as sns\n",
    " import pandas as pd\n",
    " import warnings\n",
    " warnings.filterwarnings(\"ignore\")\n",
    " df = pd.read_csv(\"data/StudentsPerformance.csv\")"
   ]
  },
  {
   "cell_type": "code",
   "execution_count": null,
   "metadata": {},
   "outputs": [],
   "source": []
  },
  {
   "cell_type": "code",
   "execution_count": null,
   "metadata": {},
   "outputs": [],
   "source": [
    "categorical_features = [feature for feature in df.columns if df[feature].dtype == \"O\"]\n",
    "numerical_features = [feature for feature in df.columns if df[feature].dtype != \"O\"]\n"
   ]
  },
  {
   "cell_type": "code",
   "execution_count": null,
   "metadata": {},
   "outputs": [],
   "source": [
    "df[\"total score\"] = df[\"reading score\"] + df[\"writing score\"] + df[\"math score\"]\n",
    "df[\"average\"] = df[\"total score\"] / 3\n"
   ]
  },
  {
   "cell_type": "code",
   "execution_count": null,
   "metadata": {},
   "outputs": [],
   "source": [
    "reading_full = df[df[\"reading score\"] == 100][\"average\"].count()\n",
    "writing_full = df[df[\"writing score\"] == 100][\"average\"].count()\n",
    "math_full = df[df[\"math score\"] == 100][\"average\"].count()\n",
    "print(f\"Number of students with full marks in maths :{math_full}\")\n",
    "print(f\"Number of students with full marks in reading : {reading_full}\")\n",
    "print(f\"Number of students with full marks in writing : {writing_full}\")"
   ]
  },
  {
   "cell_type": "code",
   "execution_count": null,
   "metadata": {},
   "outputs": [],
   "source": [
    "reading_less = df[df[\"reading score\"] <= 20]['average'].count()\n",
    "writing_less = df[df[\"writing score\"] <= 20][\"average\"].count()\n",
    "math_less = df[df[\"math score\"] <= 20][\"average\"].count()\n",
    "print(f\"Number of students with less than 20 marks in reading :{reading_less}\")\n",
    "print(f\"Number of students with less than 20 marks in writung :{writing_less} \")\n",
    "print(f\"Number of student with less than 20 marks in matjs: {math_less}\")"
   ]
  },
  {
   "cell_type": "code",
   "execution_count": null,
   "metadata": {},
   "outputs": [],
   "source": [
    "fig,axs = plt.subplots(1,2,figsize = (15,7))\n",
    "plt.subplot(121)\n",
    "sns.histplot(data = df,x = \"average\",bins = 30,kde = True,color = \"g\")\n",
    "plt.subplot(122)\n",
    "sns.histplot(data = df,x = \"average\",kde = True,hue = \"gender\")\n",
    "plt.show()\n"
   ]
  },
  {
   "cell_type": "code",
   "execution_count": null,
   "metadata": {},
   "outputs": [],
   "source": [
    "fig,axs = plt.subplots(1,2,figsize = (15,7))\n",
    "plt.subplot(121)\n",
    "sns.histplot(data = df,x = \"total score\",bins = 30,kde = True,color = \"g\")\n",
    "plt.subplot(122)\n",
    "sns.histplot(data = df,x = \"total score\",kde = True,hue = \"gender\")\n",
    "plt.show()"
   ]
  },
  {
   "cell_type": "code",
   "execution_count": null,
   "metadata": {},
   "outputs": [],
   "source": [
    "fig,axs = plt.subplots(1,3,figsize = (25,6))\n",
    "plt.subplot(141)\n",
    "sns.histplot(data = df,x = \"average\",kde = True,hue = \"lunch\")\n",
    "plt.subplot(142)\n",
    "sns.histplot(data = df[df[\"gender\"] == \"female\"],x = \"average\",kde = True,hue = \"lunch\")\n",
    "plt.subplot(143)\n",
    "sns.histplot(data = df[df[\"gender\"] == \"male\"],x = \"average\",kde = True,hue = \"lunch\")\n",
    "plt.show()\n",
    " \n"
   ]
  },
  {
   "cell_type": "code",
   "execution_count": null,
   "metadata": {},
   "outputs": [],
   "source": []
  },
  {
   "cell_type": "code",
   "execution_count": null,
   "metadata": {},
   "outputs": [],
   "source": [
    "fig,axs = plt.subplots(1,3,figsize = (25,6))\n",
    "plt.subplot(141)\n",
    "sns.histplot(data = df,x = \"average\",kde = True,hue = \"parental level of education\")\n",
    "plt.subplot(142)\n",
    "sns.histplot(data = df[df[\"gender\"] == \"male\"],x = \"average\",kde = True,hue = \"parental level of education\")\n",
    "plt.subplot(143)\n",
    "sns.histplot(data = df[df[\"gender\"] == \"female\"],x = \"average\",kde = True,hue = \"parental level of education\")\n",
    "plt.show()"
   ]
  },
  {
   "cell_type": "code",
   "execution_count": null,
   "metadata": {},
   "outputs": [],
   "source": [
    "plt.subplots(1,3,figsize = (25,6))\n",
    "plt.subplot(141)\n",
    "ax = sns.histplot(data = df,x = \"average\",kde = True,hue = \"race/ethnicity\")\n",
    "plt.subplot(142)\n",
    "ax = sns.histplot(data = df[df[\"gender\"] == \"female\"],x = \"average\",kde = True,hue = \"race/ethnicity\")\n",
    "plt.subplot(143)\n",
    "ax = sns.histplot(data = df[df[\"gender\"] == \"male\"],x = \"average\",kde = True,hue = \"race/ethnicity\")\n",
    "plt.show()"
   ]
  },
  {
   "cell_type": "code",
   "execution_count": null,
   "metadata": {},
   "outputs": [],
   "source": [
    "plt.figure(figsize = (18,8))\n",
    "plt.subplot(1,4,1)\n",
    "plt.title(\"Maths Score\")\n",
    "sns.violinplot(y = \"math score\",data = df,color = \"red\",linewidth = 3)\n",
    "plt.subplot(1,4,2)\n",
    "plt.title(\"Reading Score\")\n",
    "sns.violinplot(y = \"reading score\",data = df,color = \"green\",linewidth = 3)\n",
    "plt.subplot(1,4,3)\n",
    "plt.title(\"Writing Score\")\n",
    "sns.violinplot(y = \"writing score\",data = df,color = \"blue\",linewidth = 3)\n",
    "plt.show()\n",
    "plt.show()"
   ]
  },
  {
   "cell_type": "code",
   "execution_count": null,
   "metadata": {},
   "outputs": [],
   "source": [
    "plt.rcParams[\"figure.figsize\"] = (30,12)\n",
    "plt.subplot(1,5,1)\n",
    "size = df[\"gender\"].value_counts()\n",
    "labels = \"Female\",\"male\"\n",
    "color = [\"red\",\"green\"]\n",
    "plt.pie(size,colors = color,labels = labels,autopct = \"%2f%%\")\n",
    "plt.title(\"Gender\",fontsize = 20)\n",
    "plt.axis(\"off\")\n"
   ]
  },
  {
   "cell_type": "code",
   "execution_count": null,
   "metadata": {},
   "outputs": [],
   "source": [
    "plt.subplot(1,5,2) \n",
    "size = df['race/ethnicity'].value_counts()\n",
    "labels = \"Group C\",\"Group D\",\"Group B\",\"Group E\",\"Group A\"\n",
    "color = ['red','green','blue','cyan','orange']\n",
    "plt.pie(size,colors = color,labels = labels,autopct = \"%2f%%\")\n",
    "plt.title(\"race/ethnicity\",fontsize = 20)\n",
    "plt.axis(\"off\")"
   ]
  },
  {
   "cell_type": "code",
   "execution_count": null,
   "metadata": {},
   "outputs": [],
   "source": [
    "plt.subplots(1,5,3)\n",
    "size = df.lunch['lunch'].value_counts()\n",
    "labels = \"Standard\",\"Free\"\n",
    "color = [\"red\",\"green\"]\n",
    "plt.pie(size,colors = color,labels = labels,autopct = \".%2f%%\")\n",
    "plt.title(\"Lunch\",fontsize)\n"
   ]
  },
  {
   "cell_type": "code",
   "execution_count": null,
   "metadata": {},
   "outputs": [],
   "source": []
  }
 ],
 "metadata": {
  "kernelspec": {
   "display_name": "Python 3.8.10 64-bit",
   "language": "python",
   "name": "python3"
  },
  "language_info": {
   "codemirror_mode": {
    "name": "ipython",
    "version": 3
   },
   "file_extension": ".py",
   "mimetype": "text/x-python",
   "name": "python",
   "nbconvert_exporter": "python",
   "pygments_lexer": "ipython3",
   "version": "3.8.10"
  },
  "orig_nbformat": 4,
  "vscode": {
   "interpreter": {
    "hash": "e7370f93d1d0cde622a1f8e1c04877d8463912d04d973331ad4851f04de6915a"
   }
  }
 },
 "nbformat": 4,
 "nbformat_minor": 2
}
