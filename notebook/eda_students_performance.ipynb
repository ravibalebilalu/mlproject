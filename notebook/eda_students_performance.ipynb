{
 "cells": [
  {
   "cell_type": "code",
   "execution_count": 2,
   "metadata": {},
   "outputs": [],
   "source": [
    " import numpy as np\n",
    " import matplotlib.pyplot as plt\n",
    " import seaborn as sns\n",
    " import pandas as pd\n",
    " df = pd.read_csv(\"data/StudentsPerformance.csv\")"
   ]
  },
  {
   "cell_type": "code",
   "execution_count": 3,
   "metadata": {},
   "outputs": [],
   "source": [
    "categorical_features = [feature for feature in df.columns if df[feature].dtype == \"O\"]\n",
    "numerical_features = [feature for feature in df.columns if df[feature].dtype != \"O\"]\n"
   ]
  },
  {
   "cell_type": "code",
   "execution_count": 4,
   "metadata": {},
   "outputs": [],
   "source": [
    "df[\"total score\"] = df[\"reading score\"] + df[\"writing score\"] + df[\"math score\"]\n",
    "df[\"average\"] = df[\"total score\"] / 3\n"
   ]
  },
  {
   "cell_type": "code",
   "execution_count": 5,
   "metadata": {},
   "outputs": [
    {
     "name": "stdout",
     "output_type": "stream",
     "text": [
      "Number of students with full marks in maths :7\n",
      "Number of students with full marks in reading : 17\n",
      "Number of students with full marks in writing : 14\n"
     ]
    }
   ],
   "source": [
    "reading_full = df[df[\"reading score\"] == 100][\"average\"].count()\n",
    "writing_full = df[df[\"writing score\"] == 100][\"average\"].count()\n",
    "math_full = df[df[\"math score\"] == 100][\"average\"].count()\n",
    "print(f\"Number of students with full marks in maths :{math_full}\")\n",
    "print(f\"Number of students with full marks in reading : {reading_full}\")\n",
    "print(f\"Number of students with full marks in writing : {writing_full}\")"
   ]
  },
  {
   "cell_type": "code",
   "execution_count": 11,
   "metadata": {},
   "outputs": [
    {
     "name": "stdout",
     "output_type": "stream",
     "text": [
      "Number of students with less than 20 marks in reading :1\n",
      "Number of students with less than 20 marks in writung :3 \n",
      "Number of student with less than 20 marks in matjs: 4\n"
     ]
    }
   ],
   "source": [
    "reading_less = df[df[\"reading score\"] <= 20]['average'].count()\n",
    "writing_less = df[df[\"writing score\"] <= 20][\"average\"].count()\n",
    "math_less = df[df[\"math score\"] <= 20][\"average\"].count()\n",
    "print(f\"Number of students with less than 20 marks in reading :{reading_less}\")\n",
    "print(f\"Number of students with less than 20 marks in writung :{writing_less} \")\n",
    "print(f\"Number of student with less than 20 marks in matjs: {math_less}\")"
   ]
  }
 ],
 "metadata": {
  "kernelspec": {
   "display_name": "Python 3.8.10 64-bit",
   "language": "python",
   "name": "python3"
  },
  "language_info": {
   "codemirror_mode": {
    "name": "ipython",
    "version": 3
   },
   "file_extension": ".py",
   "mimetype": "text/x-python",
   "name": "python",
   "nbconvert_exporter": "python",
   "pygments_lexer": "ipython3",
   "version": "3.8.10"
  },
  "orig_nbformat": 4,
  "vscode": {
   "interpreter": {
    "hash": "e7370f93d1d0cde622a1f8e1c04877d8463912d04d973331ad4851f04de6915a"
   }
  }
 },
 "nbformat": 4,
 "nbformat_minor": 2
}
